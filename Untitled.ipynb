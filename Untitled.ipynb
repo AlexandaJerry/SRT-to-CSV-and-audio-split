{
 "cells": [
  {
   "cell_type": "code",
   "execution_count": 1,
   "metadata": {},
   "outputs": [],
   "source": [
    "import pandas as pd\n",
    "from glob import glob"
   ]
  },
  {
   "cell_type": "code",
   "execution_count": 212,
   "metadata": {},
   "outputs": [
    {
     "name": "stdout",
     "output_type": "stream",
     "text": [
      "127202 files created\n",
      "0 files missing\n"
     ]
    }
   ],
   "source": [
    "x=0\n",
    "for item in glob('./ready_for_slice/*.csv'):\n",
    "    df = pd.read_csv(item)\n",
    "    #print(len(df))\n",
    "    x = x + len(df)\n",
    "    \n",
    "z = 0\n",
    "for item in glob('/Volumes/Volume/audio_sliced/*.wav'):\n",
    "    z = z + 1\n",
    "    \n",
    "print('{} files created'.format(z))  \n",
    "print('{} files missing'.format(x-z))"
   ]
  },
  {
   "cell_type": "code",
   "execution_count": 20,
   "metadata": {},
   "outputs": [],
   "source": [
    "df = pd.read_csv('./merged_csv/Filepath_Filesize.csv')\n",
    "def convert(duration):\n",
    "    time = float(duration)\n",
    "    return time\n",
    "df['duration'] = df['duration'].apply(convert)\n",
    "\n",
    "df = df[df['duration']<10.00]"
   ]
  },
  {
   "cell_type": "code",
   "execution_count": 22,
   "metadata": {},
   "outputs": [
    {
     "data": {
      "text/html": [
       "<div>\n",
       "<style scoped>\n",
       "    .dataframe tbody tr th:only-of-type {\n",
       "        vertical-align: middle;\n",
       "    }\n",
       "\n",
       "    .dataframe tbody tr th {\n",
       "        vertical-align: top;\n",
       "    }\n",
       "\n",
       "    .dataframe thead th {\n",
       "        text-align: right;\n",
       "    }\n",
       "</style>\n",
       "<table border=\"1\" class=\"dataframe\">\n",
       "  <thead>\n",
       "    <tr style=\"text-align: right;\">\n",
       "      <th></th>\n",
       "      <th>wav_filename</th>\n",
       "      <th>wav_filesize</th>\n",
       "      <th>duration</th>\n",
       "    </tr>\n",
       "  </thead>\n",
       "  <tbody>\n",
       "    <tr>\n",
       "      <th>0</th>\n",
       "      <td>/Volumes/Volume/sliced_audio/club_20180925_222...</td>\n",
       "      <td>96044</td>\n",
       "      <td>3.00</td>\n",
       "    </tr>\n",
       "    <tr>\n",
       "      <th>1</th>\n",
       "      <td>/Volumes/Volume/sliced_audio/club_20180925_222...</td>\n",
       "      <td>103724</td>\n",
       "      <td>3.24</td>\n",
       "    </tr>\n",
       "    <tr>\n",
       "      <th>2</th>\n",
       "      <td>/Volumes/Volume/sliced_audio/club_20180925_222...</td>\n",
       "      <td>116524</td>\n",
       "      <td>3.64</td>\n",
       "    </tr>\n",
       "    <tr>\n",
       "      <th>3</th>\n",
       "      <td>/Volumes/Volume/sliced_audio/club_20180925_222...</td>\n",
       "      <td>74284</td>\n",
       "      <td>2.32</td>\n",
       "    </tr>\n",
       "    <tr>\n",
       "      <th>4</th>\n",
       "      <td>/Volumes/Volume/sliced_audio/club_20180925_222...</td>\n",
       "      <td>126764</td>\n",
       "      <td>3.96</td>\n",
       "    </tr>\n",
       "  </tbody>\n",
       "</table>\n",
       "</div>"
      ],
      "text/plain": [
       "                                        wav_filename  wav_filesize  duration\n",
       "0  /Volumes/Volume/sliced_audio/club_20180925_222...         96044      3.00\n",
       "1  /Volumes/Volume/sliced_audio/club_20180925_222...        103724      3.24\n",
       "2  /Volumes/Volume/sliced_audio/club_20180925_222...        116524      3.64\n",
       "3  /Volumes/Volume/sliced_audio/club_20180925_222...         74284      2.32\n",
       "4  /Volumes/Volume/sliced_audio/club_20180925_222...        126764      3.96"
      ]
     },
     "execution_count": 22,
     "metadata": {},
     "output_type": "execute_result"
    }
   ],
   "source": [
    "df.head()"
   ]
  },
  {
   "cell_type": "code",
   "execution_count": null,
   "metadata": {},
   "outputs": [],
   "source": []
  }
 ],
 "metadata": {
  "kernelspec": {
   "display_name": "Python 3",
   "language": "python",
   "name": "python3"
  },
  "language_info": {
   "codemirror_mode": {
    "name": "ipython",
    "version": 3
   },
   "file_extension": ".py",
   "mimetype": "text/x-python",
   "name": "python",
   "nbconvert_exporter": "python",
   "pygments_lexer": "ipython3",
   "version": "3.7.2"
  }
 },
 "nbformat": 4,
 "nbformat_minor": 2
}
