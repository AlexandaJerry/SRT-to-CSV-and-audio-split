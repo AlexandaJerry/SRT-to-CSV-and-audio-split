{
 "cells": [
  {
   "cell_type": "code",
   "execution_count": 3,
   "metadata": {},
   "outputs": [],
   "source": [
    "import pandas as pd\n",
    "from glob import glob"
   ]
  },
  {
   "cell_type": "code",
   "execution_count": 108,
   "metadata": {},
   "outputs": [
    {
     "name": "stdout",
     "output_type": "stream",
     "text": [
      "125792\n"
     ]
    }
   ],
   "source": [
    "x=0\n",
    "for item in glob('./slice_complete/*.csv'):\n",
    "    df = pd.read_csv(item)\n",
    "    #print(len(df))\n",
    "    x = x + len(df)\n",
    "    \n",
    "print(x)    "
   ]
  },
  {
   "cell_type": "code",
   "execution_count": 109,
   "metadata": {},
   "outputs": [
    {
     "data": {
      "text/plain": [
       "1410"
      ]
     },
     "execution_count": 109,
     "metadata": {},
     "output_type": "execute_result"
    }
   ],
   "source": [
    "item = 'club_20170530_222619_5726344_v_podcast_h264_q10.csv'\n",
    "\n",
    "df = pd.read_csv(item)\n",
    "len(df)"
   ]
  },
  {
   "cell_type": "code",
   "execution_count": 124,
   "metadata": {},
   "outputs": [
    {
     "name": "stdout",
     "output_type": "stream",
     "text": [
      "32350\n"
     ]
    }
   ],
   "source": [
    "z = 0\n",
    "for item in glob('/Volumes/MA-Tobi/sliced_audio/*.wav'):\n",
    "    z = z + 1\n",
    "    \n",
    "print(z) "
   ]
  },
  {
   "cell_type": "code",
   "execution_count": 128,
   "metadata": {},
   "outputs": [
    {
     "name": "stdout",
     "output_type": "stream",
     "text": [
      "32350\n"
     ]
    }
   ],
   "source": [
    "z = 0\n",
    "for item in glob('audio_copy/*.wav'):\n",
    "\n",
    "    z = z + 1\n",
    "    \n",
    "print(z) "
   ]
  },
  {
   "cell_type": "code",
   "execution_count": null,
   "metadata": {},
   "outputs": [],
   "source": [
    "#now in audio_copy = 32350"
   ]
  }
 ],
 "metadata": {
  "kernelspec": {
   "display_name": "Python 3",
   "language": "python",
   "name": "python3"
  },
  "language_info": {
   "codemirror_mode": {
    "name": "ipython",
    "version": 3
   },
   "file_extension": ".py",
   "mimetype": "text/x-python",
   "name": "python",
   "nbconvert_exporter": "python",
   "pygments_lexer": "ipython3",
   "version": "3.7.2"
  }
 },
 "nbformat": 4,
 "nbformat_minor": 2
}
