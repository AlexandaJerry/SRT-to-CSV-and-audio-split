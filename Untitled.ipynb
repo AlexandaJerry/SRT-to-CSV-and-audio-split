{
 "cells": [
  {
   "cell_type": "code",
   "execution_count": 3,
   "metadata": {},
   "outputs": [],
   "source": [
    "import pandas as pd\n",
    "from glob import glob"
   ]
  },
  {
   "cell_type": "code",
   "execution_count": 212,
   "metadata": {},
   "outputs": [
    {
     "name": "stdout",
     "output_type": "stream",
     "text": [
      "127202 files created\n",
      "0 files missing\n"
     ]
    }
   ],
   "source": [
    "x=0\n",
    "for item in glob('./ready_for_slice/*.csv'):\n",
    "    df = pd.read_csv(item)\n",
    "    #print(len(df))\n",
    "    x = x + len(df)\n",
    "    \n",
    "z = 0\n",
    "for item in glob('/Volumes/Volume/audio_sliced/*.wav'):\n",
    "    z = z + 1\n",
    "    \n",
    "print('{} files created'.format(z))  \n",
    "print('{} files missing'.format(x-z))"
   ]
  },
  {
   "cell_type": "code",
   "execution_count": null,
   "metadata": {},
   "outputs": [],
   "source": []
  }
 ],
 "metadata": {
  "kernelspec": {
   "display_name": "Python 3",
   "language": "python",
   "name": "python3"
  },
  "language_info": {
   "codemirror_mode": {
    "name": "ipython",
    "version": 3
   },
   "file_extension": ".py",
   "mimetype": "text/x-python",
   "name": "python",
   "nbconvert_exporter": "python",
   "pygments_lexer": "ipython3",
   "version": "3.7.2"
  }
 },
 "nbformat": 4,
 "nbformat_minor": 2
}
